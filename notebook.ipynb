{
 "cells": [
  {
   "cell_type": "code",
   "execution_count": 13,
   "metadata": {},
   "outputs": [
    {
     "data": {
      "text/plain": [
       "AIMessage(content=\"In the not-too-distant future, a groundbreaking invention emerged within the bustling city of Veridium. It was the Emotisphere, a revolutionary device that allowed emotions to be bought and sold as commodities. With a simple implant, individuals could experience any emotion they desired, simply by activating the corresponding program. The world was eager to embrace this new technology, believing it would bring happiness, eliminate suffering, and revolutionize the way society functioned.\\n\\nAs the Emotispheres were distributed, people's lives changed dramatically. Relationships became strained, as genuine emotional connections became a rarity. Love, once a profound and heartfelt experience, was reduced to a mere transaction. People traded their love for fleeting moments of passion, and the concept of commitment vanished. The deeper meaning of relationships waned, and many lost their ability to truly connect with others.\\n\\nSociety transformed into a cold and detached place, where emotions were treated as disposable commodities. Empathy and compassion were overshadowed by a constant pursuit of pleasure. People became self-centered, driven solely by their own desires. The world became a marketplace, with emotions being bought and sold, leaving little room for genuine human connection.\\n\\nFurthermore, personal identity became blurred. With the ability to purchase any emotion, people lost touch with their true selves. They could no longer distinguish between their own emotions and those manufactured by the Emotisphere. The line between reality and artificiality grew hazy, and many questioned their own authenticity. Some individuals became addicted to the Emotispheres, desperate to escape their own realities and live in a constant state of euphoria.\\n\\nAmidst this emotionally fragmented society, a young woman named Evelyn found herself longing for something more. She had grown tired of the superficiality that surrounded her, craving the depth and authenticity that emotions once held. One day, she stumbled upon a forgotten emotion - sadness. She realized that she had not experienced true sorrow since the advent of the Emotisphere.\\n\\nDriven by curiosity, Evelyn sought to rediscover the beauty of genuine emotion. She embarked on a journey, venturing outside the city limits, in search of a place untouched by the influence of the Emotisphere. Along the way, she encountered others who shared her yearning for authenticity. They formed a small community, living in a world that rejected the commodification of emotions.\\n\\nTogether, they discovered the power of human connection, unencumbered by artificial emotions. They learned to embrace vulnerability, to feel deeply, and to cherish the rawness of their emotions. Their relationships were founded on trust, empathy, and shared experiences. They found joy in the imperfections, in the highs and lows, and in the true complexity of being human.\\n\\nWord of their community spread, and slowly, others began to question the emptiness of their lives. People started to realize that true fulfillment could not be bought or sold. They yearned for the realness of genuine emotions, even if it meant experiencing pain and sadness. The demand for Emotispheres dwindled, and a shift occurred within society.\\n\\nThe world began to heal, one genuine connection at a time. People learned to navigate the complexities of their emotions, embracing their vulnerabilities and embracing the beauty of being human once more. The Emotispheres, once heralded as a revolutionary breakthrough, faded into obscurity, reminding humanity of the irreplaceable value of genuine emotions and the power of personal identity.\")"
      ]
     },
     "execution_count": 13,
     "metadata": {},
     "output_type": "execute_result"
    }
   ],
   "source": [
    "from langchain_openai import ChatOpenAI\n",
    "from dotenv import load_dotenv\n",
    "from langchain_openai import ChatOpenAI\n",
    "from langchain_core.prompts import ChatPromptTemplate\n",
    "from langchain_core.output_parsers import StrOutputParser\n",
    "from langchain_community.document_loaders import TextLoader\n",
    "\n",
    "loader = TextLoader(\"file.txt\")\n",
    "loader.load()\n",
    "\n"
   ]
  },
  {
   "cell_type": "code",
   "execution_count": 11,
   "metadata": {},
   "outputs": [
    {
     "ename": "ImportError",
     "evalue": "PyMuPDF package not found, please install it with `pip install pymupdf`",
     "output_type": "error",
     "traceback": [
      "\u001b[0;31m---------------------------------------------------------------------------\u001b[0m",
      "\u001b[0;31mNotImplementedError\u001b[0m                       Traceback (most recent call last)",
      "File \u001b[0;32m~/LLM-Precision-RAG-Optimization/venv/lib/python3.10/site-packages/langchain_community/document_loaders/merge.py:20\u001b[0m, in \u001b[0;36mMergedDataLoader.lazy_load\u001b[0;34m(self)\u001b[0m\n\u001b[1;32m     19\u001b[0m \u001b[38;5;28;01mtry\u001b[39;00m:\n\u001b[0;32m---> 20\u001b[0m     data \u001b[38;5;241m=\u001b[39m \u001b[43mloader\u001b[49m\u001b[38;5;241;43m.\u001b[39;49m\u001b[43mlazy_load\u001b[49m\u001b[43m(\u001b[49m\u001b[43m)\u001b[49m\n\u001b[1;32m     21\u001b[0m \u001b[38;5;28;01mexcept\u001b[39;00m \u001b[38;5;167;01mNotImplementedError\u001b[39;00m:\n",
      "File \u001b[0;32m~/LLM-Precision-RAG-Optimization/venv/lib/python3.10/site-packages/langchain_community/document_loaders/base.py:59\u001b[0m, in \u001b[0;36mBaseLoader.lazy_load\u001b[0;34m(self)\u001b[0m\n\u001b[1;32m     58\u001b[0m \u001b[38;5;250m\u001b[39m\u001b[38;5;124;03m\"\"\"A lazy loader for Documents.\"\"\"\u001b[39;00m\n\u001b[0;32m---> 59\u001b[0m \u001b[38;5;28;01mraise\u001b[39;00m \u001b[38;5;167;01mNotImplementedError\u001b[39;00m(\n\u001b[1;32m     60\u001b[0m     \u001b[38;5;124mf\u001b[39m\u001b[38;5;124m\"\u001b[39m\u001b[38;5;132;01m{\u001b[39;00m\u001b[38;5;28mself\u001b[39m\u001b[38;5;241m.\u001b[39m\u001b[38;5;18m__class__\u001b[39m\u001b[38;5;241m.\u001b[39m\u001b[38;5;18m__name__\u001b[39m\u001b[38;5;132;01m}\u001b[39;00m\u001b[38;5;124m does not implement lazy_load()\u001b[39m\u001b[38;5;124m\"\u001b[39m\n\u001b[1;32m     61\u001b[0m )\n",
      "\u001b[0;31mNotImplementedError\u001b[0m: ArxivLoader does not implement lazy_load()",
      "\nDuring handling of the above exception, another exception occurred:\n",
      "\u001b[0;31mModuleNotFoundError\u001b[0m                       Traceback (most recent call last)",
      "File \u001b[0;32m~/LLM-Precision-RAG-Optimization/venv/lib/python3.10/site-packages/langchain_community/utilities/arxiv.py:182\u001b[0m, in \u001b[0;36mArxivAPIWrapper.load\u001b[0;34m(self, query)\u001b[0m\n\u001b[1;32m    181\u001b[0m \u001b[38;5;28;01mtry\u001b[39;00m:\n\u001b[0;32m--> 182\u001b[0m     \u001b[38;5;28;01mimport\u001b[39;00m \u001b[38;5;21;01mfitz\u001b[39;00m\n\u001b[1;32m    183\u001b[0m \u001b[38;5;28;01mexcept\u001b[39;00m \u001b[38;5;167;01mImportError\u001b[39;00m:\n",
      "\u001b[0;31mModuleNotFoundError\u001b[0m: No module named 'fitz'",
      "\nDuring handling of the above exception, another exception occurred:\n",
      "\u001b[0;31mImportError\u001b[0m                               Traceback (most recent call last)",
      "Cell \u001b[0;32mIn[11], line 14\u001b[0m\n\u001b[1;32m     10\u001b[0m     docs_to_merge\u001b[38;5;241m.\u001b[39mappend(loader)\n\u001b[1;32m     12\u001b[0m all_loaders \u001b[38;5;241m=\u001b[39m MergedDataLoader(loaders\u001b[38;5;241m=\u001b[39mdocs_to_merge)\n\u001b[0;32m---> 14\u001b[0m all_docs \u001b[38;5;241m=\u001b[39m \u001b[43mall_loaders\u001b[49m\u001b[38;5;241;43m.\u001b[39;49m\u001b[43mload\u001b[49m\u001b[43m(\u001b[49m\u001b[43m)\u001b[49m\n",
      "File \u001b[0;32m~/LLM-Precision-RAG-Optimization/venv/lib/python3.10/site-packages/langchain_community/document_loaders/merge.py:28\u001b[0m, in \u001b[0;36mMergedDataLoader.load\u001b[0;34m(self)\u001b[0m\n\u001b[1;32m     26\u001b[0m \u001b[38;5;28;01mdef\u001b[39;00m \u001b[38;5;21mload\u001b[39m(\u001b[38;5;28mself\u001b[39m) \u001b[38;5;241m-\u001b[39m\u001b[38;5;241m>\u001b[39m List[Document]:\n\u001b[1;32m     27\u001b[0m \u001b[38;5;250m    \u001b[39m\u001b[38;5;124;03m\"\"\"Load docs.\"\"\"\u001b[39;00m\n\u001b[0;32m---> 28\u001b[0m     \u001b[38;5;28;01mreturn\u001b[39;00m \u001b[38;5;28;43mlist\u001b[39;49m\u001b[43m(\u001b[49m\u001b[38;5;28;43mself\u001b[39;49m\u001b[38;5;241;43m.\u001b[39;49m\u001b[43mlazy_load\u001b[49m\u001b[43m(\u001b[49m\u001b[43m)\u001b[49m\u001b[43m)\u001b[49m\n",
      "File \u001b[0;32m~/LLM-Precision-RAG-Optimization/venv/lib/python3.10/site-packages/langchain_community/document_loaders/merge.py:22\u001b[0m, in \u001b[0;36mMergedDataLoader.lazy_load\u001b[0;34m(self)\u001b[0m\n\u001b[1;32m     20\u001b[0m     data \u001b[38;5;241m=\u001b[39m loader\u001b[38;5;241m.\u001b[39mlazy_load()\n\u001b[1;32m     21\u001b[0m \u001b[38;5;28;01mexcept\u001b[39;00m \u001b[38;5;167;01mNotImplementedError\u001b[39;00m:\n\u001b[0;32m---> 22\u001b[0m     data \u001b[38;5;241m=\u001b[39m \u001b[43mloader\u001b[49m\u001b[38;5;241;43m.\u001b[39;49m\u001b[43mload\u001b[49m\u001b[43m(\u001b[49m\u001b[43m)\u001b[49m\n\u001b[1;32m     23\u001b[0m \u001b[38;5;28;01mfor\u001b[39;00m document \u001b[38;5;129;01min\u001b[39;00m data:\n\u001b[1;32m     24\u001b[0m     \u001b[38;5;28;01myield\u001b[39;00m document\n",
      "File \u001b[0;32m~/LLM-Precision-RAG-Optimization/venv/lib/python3.10/site-packages/langchain_community/document_loaders/arxiv.py:27\u001b[0m, in \u001b[0;36mArxivLoader.load\u001b[0;34m(self)\u001b[0m\n\u001b[1;32m     26\u001b[0m \u001b[38;5;28;01mdef\u001b[39;00m \u001b[38;5;21mload\u001b[39m(\u001b[38;5;28mself\u001b[39m) \u001b[38;5;241m-\u001b[39m\u001b[38;5;241m>\u001b[39m List[Document]:\n\u001b[0;32m---> 27\u001b[0m     \u001b[38;5;28;01mreturn\u001b[39;00m \u001b[38;5;28;43mself\u001b[39;49m\u001b[38;5;241;43m.\u001b[39;49m\u001b[43mclient\u001b[49m\u001b[38;5;241;43m.\u001b[39;49m\u001b[43mload\u001b[49m\u001b[43m(\u001b[49m\u001b[38;5;28;43mself\u001b[39;49m\u001b[38;5;241;43m.\u001b[39;49m\u001b[43mquery\u001b[49m\u001b[43m)\u001b[49m\n",
      "File \u001b[0;32m~/LLM-Precision-RAG-Optimization/venv/lib/python3.10/site-packages/langchain_community/utilities/arxiv.py:184\u001b[0m, in \u001b[0;36mArxivAPIWrapper.load\u001b[0;34m(self, query)\u001b[0m\n\u001b[1;32m    182\u001b[0m     \u001b[38;5;28;01mimport\u001b[39;00m \u001b[38;5;21;01mfitz\u001b[39;00m\n\u001b[1;32m    183\u001b[0m \u001b[38;5;28;01mexcept\u001b[39;00m \u001b[38;5;167;01mImportError\u001b[39;00m:\n\u001b[0;32m--> 184\u001b[0m     \u001b[38;5;28;01mraise\u001b[39;00m \u001b[38;5;167;01mImportError\u001b[39;00m(\n\u001b[1;32m    185\u001b[0m         \u001b[38;5;124m\"\u001b[39m\u001b[38;5;124mPyMuPDF package not found, please install it with \u001b[39m\u001b[38;5;124m\"\u001b[39m\n\u001b[1;32m    186\u001b[0m         \u001b[38;5;124m\"\u001b[39m\u001b[38;5;124m`pip install pymupdf`\u001b[39m\u001b[38;5;124m\"\u001b[39m\n\u001b[1;32m    187\u001b[0m     )\n\u001b[1;32m    189\u001b[0m \u001b[38;5;28;01mtry\u001b[39;00m:\n\u001b[1;32m    190\u001b[0m     \u001b[38;5;66;03m# Remove the \":\" and \"-\" from the query, as they can cause search problems\u001b[39;00m\n\u001b[1;32m    191\u001b[0m     query \u001b[38;5;241m=\u001b[39m query\u001b[38;5;241m.\u001b[39mreplace(\u001b[38;5;124m\"\u001b[39m\u001b[38;5;124m:\u001b[39m\u001b[38;5;124m\"\u001b[39m, \u001b[38;5;124m\"\u001b[39m\u001b[38;5;124m\"\u001b[39m)\u001b[38;5;241m.\u001b[39mreplace(\u001b[38;5;124m\"\u001b[39m\u001b[38;5;124m-\u001b[39m\u001b[38;5;124m\"\u001b[39m, \u001b[38;5;124m\"\u001b[39m\u001b[38;5;124m\"\u001b[39m)\n",
      "\u001b[0;31mImportError\u001b[0m: PyMuPDF package not found, please install it with `pip install pymupdf`"
     ]
    }
   ],
   "source": []
  }
 ],
 "metadata": {
  "kernelspec": {
   "display_name": "venv",
   "language": "python",
   "name": "python3"
  },
  "language_info": {
   "codemirror_mode": {
    "name": "ipython",
    "version": 3
   },
   "file_extension": ".py",
   "mimetype": "text/x-python",
   "name": "python",
   "nbconvert_exporter": "python",
   "pygments_lexer": "ipython3",
   "version": "3.10.12"
  }
 },
 "nbformat": 4,
 "nbformat_minor": 2
}
